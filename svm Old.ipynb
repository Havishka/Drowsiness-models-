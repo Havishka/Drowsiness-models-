{
 "cells": [
  {
   "cell_type": "code",
   "execution_count": 2,
   "metadata": {},
   "outputs": [],
   "source": [
    "import os\n",
    "import numpy as np\n",
    "import cv2\n",
    "from sklearn.model_selection import train_test_split\n",
    "from sklearn.svm import SVC\n",
    "from sklearn.metrics import accuracy_score, confusion_matrix\n",
    "import seaborn as sns\n",
    "import matplotlib.pyplot as plt\n",
    "import joblib\n",
    "import random\n",
    "from sklearn.metrics import precision_score, recall_score, f1_score\n"
   ]
  },
  {
   "cell_type": "code",
   "execution_count": 3,
   "metadata": {},
   "outputs": [],
   "source": [
    "# Set the path to the root dataset directory\n",
    "root_dir = 'dataset/'\n",
    "\n",
    "# Initialize lists to store images and labels\n",
    "images = []\n",
    "labels = []\n",
    "\n",
    "# Recursively traverse the directory tree\n",
    "for dirpath, dirnames, filenames in os.walk(root_dir):\n",
    "    # Loop through the files in the current directory\n",
    "    for file in filenames:\n",
    "        if file.endswith('.png'):  # assuming all images are in png format\n",
    "            image = cv2.imread(os.path.join(dirpath, file))\n",
    "            image = cv2.cvtColor(image, cv2.COLOR_BGR2GRAY)  # convert to grayscale\n",
    "            image = cv2.resize(image, (24, 24))  # resize to a fixed size\n",
    "            \n",
    "            # Add random noise to the image\n",
    "            noise = np.random.normal(0, 0.1, image.shape)\n",
    "            noisy_image = np.clip(image + noise, 0, 255).astype(np.uint8)\n",
    "            \n",
    "            images.append(noisy_image)\n",
    "            \n",
    "            # Extract the label from the file name\n",
    "            if file[16] == '1':\n",
    "                label = 1\n",
    "            else:\n",
    "                label = 0\n",
    "            labels.append(label)\n",
    "\n",
    "# Convert the lists to numpy arrays\n",
    "images = np.array(images)\n",
    "labels = np.array(labels)\n",
    "\n",
    "# Normalize the pixel values between 0 and 1\n",
    "images = images / 255.0\n"
   ]
  },
  {
   "cell_type": "code",
   "execution_count": 4,
   "metadata": {},
   "outputs": [],
   "source": [
    "# Split the dataset into training and testing sets\n",
    "X_train, X_test, y_train, y_test = train_test_split(images, labels, test_size=0.2, random_state=42)\n",
    "\n",
    "# Reshape the data for SVM (from 2D to 1D)\n",
    "X_train_flat = X_train.reshape(X_train.shape[0], -1)\n",
    "X_test_flat = X_test.reshape(X_test.shape[0], -1)\n",
    "\n",
    "# Create an SVM classifier\n",
    "svm = SVC()\n",
    "\n",
    "# Train the SVM model\n",
    "svm.fit(X_train_flat, y_train)\n",
    "\n",
    "# Predict on the test set\n",
    "y_pred = svm.predict(X_test_flat)\n"
   ]
  },
  {
   "cell_type": "code",
   "execution_count": 5,
   "metadata": {},
   "outputs": [
    {
     "name": "stdout",
     "output_type": "stream",
     "text": [
      "Test accuracy: 0.9657832744405183\n",
      "Precision: 0.9666237264316665\n",
      "Recall (Sensitivity): 0.9653801169590643\n",
      "Specificity: 0.9661921708185054\n",
      "F1-score: 0.9660015214465445\n"
     ]
    }
   ],
   "source": [
    "# Calculate accuracy\n",
    "accuracy = accuracy_score(y_test, y_pred)\n",
    "print('Test accuracy:', accuracy)\n",
    "\n",
    "# Calculate precision\n",
    "precision = precision_score(y_test, y_pred)\n",
    "print('Precision:', precision)\n",
    "\n",
    "# Calculate recall (sensitivity)\n",
    "recall = recall_score(y_test, y_pred)\n",
    "print('Recall (Sensitivity):', recall)\n",
    "\n",
    "# Calculate specificity\n",
    "specificity = recall_score(y_test, y_pred, pos_label=0)\n",
    "print('Specificity:', specificity)\n",
    "\n",
    "# Calculate F1-score\n",
    "f1_score = f1_score(y_test, y_pred)\n",
    "print('F1-score:', f1_score)"
   ]
  },
  {
   "cell_type": "code",
   "execution_count": 6,
   "metadata": {},
   "outputs": [
    {
     "name": "stdout",
     "output_type": "stream",
     "text": [
      "Test accuracy: 0.9657832744405183\n"
     ]
    },
    {
     "data": {
      "image/png": "[encoded data removed]",
      "text/plain": [
       "<Figure size 640x480 with 2 Axes>"
      ]
     },
     "metadata": {},
     "output_type": "display_data"
    },
    {
     "data": {
      "text/plain": [
       "['modelsnew/svmCat2_noisy.pkl']"
      ]
     },
     "execution_count": 6,
     "metadata": {},
     "output_type": "execute_result"
    }
   ],
   "source": [
    "# Calculate accuracy\n",
    "accuracy = accuracy_score(y_test, y_pred)\n",
    "print('Test accuracy:', accuracy)\n",
    "\n",
    "# Calculate and plot confusion matrix\n",
    "cm = confusion_matrix(y_test, y_pred)\n",
    "sns.heatmap(cm, annot=True, cmap='Blues')\n",
    "plt.xlabel('Predicted')\n",
    "plt.ylabel('True')\n",
    "plt.show()\n",
    "\n",
    "# Save the trained model\n",
    "joblib.dump(svm, 'modelsnew/svmCat2_noisy.pkl')"
   ]
  }
 ],
 "metadata": {
  "kernelspec": {
   "display_name": "Python 3",
   "language": "python",
   "name": "python3"
  },
  "language_info": {
   "codemirror_mode": {
    "name": "ipython",
    "version": 3
   },
   "file_extension": ".py",
   "mimetype": "text/x-python",
   "name": "python",
   "nbconvert_exporter": "python",
   "pygments_lexer": "ipython3",
   "version": "3.11.4"
  },
  "orig_nbformat": 4
 },
 "nbformat": 4,
 "nbformat_minor": 2
}
