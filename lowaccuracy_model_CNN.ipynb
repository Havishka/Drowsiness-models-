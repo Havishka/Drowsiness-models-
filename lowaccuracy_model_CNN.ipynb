{
 "cells": [
  {
   "cell_type": "code",
   "execution_count": 1,
   "metadata": {},
   "outputs": [],
   "source": [
    "import os\n",
    "import cv2\n",
    "import numpy as np\n",
    "from keras.models import Sequential\n",
    "from keras.layers import Dropout, Conv2D, Flatten, Dense, MaxPooling2D\n",
    "from sklearn.model_selection import train_test_split\n",
    "from keras.utils.np_utils import to_categorical\n",
    "from keras.callbacks import EarlyStopping \n",
    "from keras.optimizers import Adam\n",
    "from keras.layers import BatchNormalization\n",
    "from keras.optimizers import RMSprop"
   ]
  },
  {
   "cell_type": "code",
   "execution_count": 2,
   "metadata": {},
   "outputs": [],
   "source": [
    "# Load your custom dataset and labels\n",
    "# Set the path to the root dataset directory\n",
    "root_dir = 'dataset/'\n",
    "\n",
    "# Initialize lists to store images and labels\n",
    "images = []\n",
    "labels = []\n",
    "\n",
    "# Recursively traverse the directory tree\n",
    "for dirpath, dirnames, filenames in os.walk(root_dir):\n",
    "    # Loop through the files in the current directory\n",
    "    for file in filenames:\n",
    "        if file.endswith('.png'):  # assuming all images are in png format\n",
    "            image = cv2.imread(os.path.join(dirpath, file))\n",
    "            image = cv2.cvtColor(image, cv2.COLOR_BGR2GRAY)  # convert to grayscale\n",
    "            image = cv2.resize(image, (24, 24))  # resize to match your model's input shape\n",
    "            images.append(image)\n",
    "\n",
    "            # Extract the label from the file name\n",
    "            if file[16] == '1':\n",
    "                label = 1\n",
    "            else:\n",
    "                label = 0\n",
    "            labels.append(label)\n",
    "\n",
    "# Convert the lists to numpy arrays\n",
    "images = np.array(images)\n",
    "labels = np.array(labels)\n",
    "\n",
    "# Reshape the images for the Conv2D layer\n",
    "images = images.reshape(images.shape[0], 24, 24, 1)\n",
    "\n",
    "# Normalize the pixel values between 0 and 1\n",
    "images = images / 255.0\n",
    "\n",
    "# Split the dataset into training and testing sets\n",
    "X_train, X_test, y_train, y_test = train_test_split(images, labels, test_size=0.2, random_state=42)\n"
   ]
  },
  {
   "cell_type": "code",
   "execution_count": 3,
   "metadata": {},
   "outputs": [
    {
     "name": "stdout",
     "output_type": "stream",
     "text": [
      "Epoch 1/10\n",
      "2123/2123 [==============================] - 33s 15ms/step - loss: 0.6517 - accuracy: 0.5743 - val_loss: 0.3891 - val_accuracy: 0.8390\n",
      "Epoch 2/10\n",
      "2123/2123 [==============================] - 33s 15ms/step - loss: 0.3654 - accuracy: 0.8518 - val_loss: 0.2649 - val_accuracy: 0.8969\n",
      "Epoch 3/10\n",
      "2123/2123 [==============================] - 33s 16ms/step - loss: 0.3016 - accuracy: 0.8849 - val_loss: 0.2433 - val_accuracy: 0.9074\n",
      "Epoch 4/10\n",
      "2123/2123 [==============================] - 31s 14ms/step - loss: 0.2728 - accuracy: 0.8958 - val_loss: 0.2060 - val_accuracy: 0.9216\n",
      "Epoch 5/10\n",
      "2123/2123 [==============================] - 31s 15ms/step - loss: 0.2543 - accuracy: 0.9038 - val_loss: 0.1948 - val_accuracy: 0.9254\n",
      "Epoch 6/10\n",
      "2123/2123 [==============================] - 30s 14ms/step - loss: 0.2430 - accuracy: 0.9086 - val_loss: 0.1822 - val_accuracy: 0.9329\n",
      "Epoch 7/10\n",
      "2123/2123 [==============================] - 30s 14ms/step - loss: 0.2355 - accuracy: 0.9122 - val_loss: 0.1865 - val_accuracy: 0.9308\n",
      "Epoch 8/10\n",
      "2123/2123 [==============================] - 31s 14ms/step - loss: 0.2309 - accuracy: 0.9148 - val_loss: 0.1691 - val_accuracy: 0.9364\n",
      "Epoch 9/10\n",
      "2123/2123 [==============================] - 32s 15ms/step - loss: 0.2236 - accuracy: 0.9170 - val_loss: 0.1627 - val_accuracy: 0.9419\n",
      "Epoch 10/10\n",
      "2123/2123 [==============================] - 32s 15ms/step - loss: 0.2186 - accuracy: 0.9184 - val_loss: 0.1578 - val_accuracy: 0.9408\n"
     ]
    }
   ],
   "source": [
    "\n",
    "# %%\n",
    "# Convert the labels to categorical format (one-hot encoding)\n",
    "y_train = to_categorical(y_train, 2)\n",
    "y_test = to_categorical(y_test, 2)\n",
    "\n",
    "# Create the model with reduced regularization and simpler architecture\n",
    "model = Sequential([\n",
    "    Conv2D(8, kernel_size=(3, 3), activation='sigmoid', input_shape=(24, 24, 1)),\n",
    "    MaxPooling2D(pool_size=(1, 1)),\n",
    "    Dropout(0.5),\n",
    "    Flatten(),\n",
    "    Dense(32, activation='sigmoid'),\n",
    "    Dropout(0.5),\n",
    "    Dense(2, activation='softmax')\n",
    "])\n",
    "\n",
    "optimizer = Adam(learning_rate=0.001)  # You can experiment with different learning rates\n",
    "model.compile(optimizer=optimizer, loss='categorical_crossentropy', metrics=['accuracy'])\n",
    "\n",
    "# Early Stopping callback\n",
    "early_stopping = EarlyStopping(monitor='val_loss', patience=3, verbose=1, restore_best_weights=True)\n",
    "\n",
    "# Model training with Early Stopping\n",
    "history = model.fit(X_train, y_train, validation_data=(X_test, y_test), epochs=10, batch_size=32, callbacks=[early_stopping])\n"
   ]
  },
  {
   "cell_type": "code",
   "execution_count": 4,
   "metadata": {},
   "outputs": [
    {
     "name": "stdout",
     "output_type": "stream",
     "text": [
      "  1/531 [..............................] - ETA: 33s - loss: 0.1422 - accuracy: 0.9062"
     ]
    },
    {
     "name": "stdout",
     "output_type": "stream",
     "text": [
      "531/531 [==============================] - 3s 5ms/step - loss: 0.1578 - accuracy: 0.9408\n",
      "Test loss: 0.15777979791164398\n",
      "Test accuracy: 0.9408127069473267\n"
     ]
    }
   ],
   "source": [
    "# %%\n",
    "# Evaluate the model\n",
    "loss, accuracy = model.evaluate(X_test, y_test)\n",
    "print('Test loss:', loss)\n",
    "print('Test accuracy:', accuracy)\n",
    "\n",
    "# Save the model\n",
    "model.save('models/cnnCat2_custom_low_accuracy.h5', overwrite=True)"
   ]
  }
 ],
 "metadata": {
  "kernelspec": {
   "display_name": "Python 3",
   "language": "python",
   "name": "python3"
  },
  "language_info": {
   "name": "python",
   "version": "3.11.4"
  },
  "orig_nbformat": 4
 },
 "nbformat": 4,
 "nbformat_minor": 2
}
