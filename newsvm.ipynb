{
 "cells": [
  {
   "cell_type": "code",
   "execution_count": 1,
   "metadata": {},
   "outputs": [],
   "source": [
    "import os\n",
    "import cv2\n",
    "import numpy as np\n",
    "from skimage.feature import hog\n",
    "from sklearn.model_selection import train_test_split\n",
    "from sklearn.svm import SVC\n",
    "import joblib\n",
    "from sklearn.metrics import accuracy_score, precision_score, recall_score, f1_score, classification_report\n"
   ]
  },
  {
   "cell_type": "code",
   "execution_count": 2,
   "metadata": {},
   "outputs": [
    {
     "name": "stdout",
     "output_type": "stream",
     "text": [
      "Number of samples in the dataset: 4000\n"
     ]
    }
   ],
   "source": [
    "# Function to extract HOG features from an image\n",
    "def extract_hog_features(image):\n",
    "    hog_features = hog(image, pixels_per_cell=(8, 8), cells_per_block=(2, 2), block_norm='L2-Hys')\n",
    "    return hog_features\n",
    "\n",
    "# Load the dataset and extract HOG features\n",
    "def load_data(dataset_path):\n",
    "    images = []  # List to store HOG features for each image\n",
    "    labels = []\n",
    "    class_label_mapping = {\n",
    "        'Open_Eyes': 0,\n",
    "        'Closed_Eyes': 1\n",
    "        # Add more class folders and their corresponding labels if needed\n",
    "    }\n",
    "    for class_folder in os.listdir(dataset_path):\n",
    "        if os.path.isdir(os.path.join(dataset_path, class_folder)):\n",
    "            class_label = class_label_mapping.get(class_folder)\n",
    "            if class_label is not None:  # Check if the class folder has a valid label\n",
    "                class_path = os.path.join(dataset_path, class_folder)\n",
    "                for image_file in os.listdir(class_path):\n",
    "                    if image_file.endswith('.png'):  # Assuming all images are in png format\n",
    "                        image_path = os.path.join(class_path, image_file)\n",
    "                        image = cv2.imread(image_path, cv2.IMREAD_GRAYSCALE)\n",
    "                        if image is not None:\n",
    "                            hog_features = extract_hog_features(image)\n",
    "                            images.append(hog_features.tolist())  # Convert to list before appending\n",
    "                            labels.append(class_label)\n",
    "                        else:\n",
    "                            print(f\"Error reading image: {image_path}\")\n",
    "            else:\n",
    "                print(f\"Invalid class folder name: {class_folder}\")\n",
    "\n",
    "    # Find the maximum length of HOG features in the dataset\n",
    "    max_length = max(len(hog_features) for hog_features in images)\n",
    "\n",
    "    # Pad the HOG features to the maximum length to make them consistent\n",
    "    for i in range(len(images)):\n",
    "        hog_features = images[i]\n",
    "        pad_length = max_length - len(hog_features)\n",
    "        images[i] = np.pad(hog_features, (0, pad_length), 'constant')\n",
    "\n",
    "    return images, np.array(labels)  # Convert labels to a NumPy array\n",
    "\n",
    "# Load the dataset (provide the path to your dataset folder)\n",
    "dataset_path = 'data'\n",
    "images, labels = load_data(dataset_path)\n",
    "print(\"Number of samples in the dataset:\", len(images))\n",
    "\n",
    "# Convert images and labels to NumPy arrays\n",
    "X = np.array(images, dtype=object)  # Convert images list to a NumPy array with dtype=object\n",
    "y = labels\n",
    "\n",
    "# Split the dataset into training and testing sets\n",
    "X_train, X_test, y_train, y_test = train_test_split(X, y, test_size=0.2, random_state=42)"
   ]
  },
  {
   "cell_type": "code",
   "execution_count": 3,
   "metadata": {},
   "outputs": [
    {
     "data": {
      "text/plain": [
       "['svm_model.joblib']"
      ]
     },
     "execution_count": 3,
     "metadata": {},
     "output_type": "execute_result"
    }
   ],
   "source": [
    "# Initialize the SVM model\n",
    "svm_model = SVC()\n",
    "\n",
    "# Train the SVM model\n",
    "svm_model.fit(X_train, y_train)\n",
    "\n",
    "# Save the model to a file\n",
    "model_filename = 'svm_model.joblib'\n",
    "joblib.dump(svm_model, model_filename)"
   ]
  },
  {
   "cell_type": "code",
   "execution_count": 4,
   "metadata": {},
   "outputs": [
    {
     "name": "stdout",
     "output_type": "stream",
     "text": [
      "Testing Accuracy: 0.99125\n",
      "Precision: 0.9859484777517564\n",
      "Recall: 0.9976303317535545\n",
      "F1-Score: 0.9917550058892817\n",
      "Classification Report:\n",
      "               precision    recall  f1-score   support\n",
      "\n",
      "   Open_Eyes       1.00      0.98      0.99       378\n",
      " Closed_Eyes       0.99      1.00      0.99       422\n",
      "\n",
      "    accuracy                           0.99       800\n",
      "   macro avg       0.99      0.99      0.99       800\n",
      "weighted avg       0.99      0.99      0.99       800\n",
      "\n"
     ]
    }
   ],
   "source": [
    "# Test the SVM model on the testing set\n",
    "y_pred = svm_model.predict(X_test)\n",
    "\n",
    "# Calculate accuracy\n",
    "accuracy = accuracy_score(y_test, y_pred)\n",
    "print(\"Testing Accuracy:\", accuracy)\n",
    "\n",
    "# Calculate precision, recall, and F1-score\n",
    "precision = precision_score(y_test, y_pred)\n",
    "recall = recall_score(y_test, y_pred)\n",
    "f1 = f1_score(y_test, y_pred)\n",
    "\n",
    "print(\"Precision:\", precision)\n",
    "print(\"Recall:\", recall)\n",
    "print(\"F1-Score:\", f1)\n",
    "\n",
    "# Get the detailed classification report\n",
    "class_names = ['Open_Eyes', 'Closed_Eyes']  # Replace with your class names if needed\n",
    "report = classification_report(y_test, y_pred, target_names=class_names)\n",
    "print(\"Classification Report:\\n\", report)"
   ]
  }
 ],
 "metadata": {
  "kernelspec": {
   "display_name": "Python 3",
   "language": "python",
   "name": "python3"
  },
  "language_info": {
   "codemirror_mode": {
    "name": "ipython",
    "version": 3
   },
   "file_extension": ".py",
   "mimetype": "text/x-python",
   "name": "python",
   "nbconvert_exporter": "python",
   "pygments_lexer": "ipython3",
   "version": "3.11.4"
  },
  "orig_nbformat": 4
 },
 "nbformat": 4,
 "nbformat_minor": 2
}
